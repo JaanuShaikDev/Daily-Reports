{
 "cells": [
  {
   "cell_type": "code",
   "execution_count": 22,
   "metadata": {},
   "outputs": [],
   "source": [
    "# POS Cash non-zero\n",
    "import pandas as pd\n",
    "from datetime import date, timedelta, datetime\n",
    "#path = r\"C:\\Users\\Jaanu\\Downloads\\Daily Reports\\EXPORT (8).xlsx\"\n",
    "path = r\"Data/EXPORT (8).xlsx\"\n",
    "data = pd.read_excel(path)\n",
    "cols = ['Profit Center', 'Profit Centre Text',\n",
    "       'Posting Date', 'Closing Balance']\n",
    "data = data[cols]\n",
    "data = data[data['Closing Balance'] != 0]\n",
    "data.sort_values('Posting Date', inplace = True)\n",
    "y_day = date.today()-timedelta(days=1)\n"
   ]
  },
  {
   "cell_type": "code",
   "execution_count": null,
   "metadata": {},
   "outputs": [],
   "source": [
    "data['Posting Date'] = data['Posting Date'].apply(lambda x: x.date().strftime(\"%d-%m-%Y\"))"
   ]
  },
  {
   "cell_type": "code",
   "execution_count": 26,
   "metadata": {},
   "outputs": [],
   "source": [
    "data = data[data['Posting Date'] < y_day].style.map(\n",
    "    lambda x: 'color: red;')"
   ]
  }
 ],
 "metadata": {
  "kernelspec": {
   "display_name": "Python 3",
   "language": "python",
   "name": "python3"
  },
  "language_info": {
   "codemirror_mode": {
    "name": "ipython",
    "version": 3
   },
   "file_extension": ".py",
   "mimetype": "text/x-python",
   "name": "python",
   "nbconvert_exporter": "python",
   "pygments_lexer": "ipython3",
   "version": "3.11.11"
  }
 },
 "nbformat": 4,
 "nbformat_minor": 2
}
